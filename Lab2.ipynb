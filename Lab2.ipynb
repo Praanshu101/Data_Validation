{
 "cells": [
  {
   "cell_type": "markdown",
   "metadata": {},
   "source": [
    "[![Open in Colab](https://colab.research.google.com/assets/colab-badge.svg)](https://colab.research.google.com/github/Praanshu101/Data_Validation/blob/main/Assignment2.ipynb)"
   ]
  },
  {
   "cell_type": "markdown",
   "metadata": {},
   "source": [
    "### Dataset Preparation"
   ]
  },
  {
   "cell_type": "code",
   "execution_count": null,
   "metadata": {},
   "outputs": [
    {
     "name": "stdout",
     "output_type": "stream",
     "text": [
      "--2025-01-17 08:55:05--  https://s3.amazonaws.com/tripdata/202412-citibike-tripdata.zip\n",
      "Resolving s3.amazonaws.com (s3.amazonaws.com)... 52.216.248.22, 52.216.249.22, 52.216.218.40, ...\n",
      "Connecting to s3.amazonaws.com (s3.amazonaws.com)|52.216.248.22|:443... connected.\n",
      "HTTP request sent, awaiting response... 200 OK\n",
      "Length: 450888449 (430M) [application/zip]\n",
      "Saving to: ‘202412-citibike-tripdata.zip.1’\n",
      "\n",
      "202412-citibike-tri 100%[===================>] 430.00M  44.7MB/s    in 10s     \n",
      "\n",
      "2025-01-17 08:55:15 (43.1 MB/s) - ‘202412-citibike-tripdata.zip.1’ saved [450888449/450888449]\n",
      "\n"
     ]
    }
   ],
   "source": [
    "#!wget https://s3.amazonaws.com/tripdata/202412-citibike-tripdata.zip"
   ]
  },
  {
   "cell_type": "code",
   "execution_count": null,
   "metadata": {},
   "outputs": [],
   "source": [
    "#import zipfile\n",
    "#with zipfile.ZipFile('/content/202412-citibike-tripdata.zip', 'r') as zip_ref:\n",
    "#    zip_ref.extractall('/content')"
   ]
  },
  {
   "cell_type": "code",
   "execution_count": null,
   "metadata": {},
   "outputs": [],
   "source": [
    "import pandas as pd\n",
    "import pandera as pa\n",
    "import os\n",
    "import zipfile\n",
    "import warnings\n",
    "\n",
    "warnings.filterwarnings('ignore')"
   ]
  },
  {
   "cell_type": "code",
   "execution_count": null,
   "metadata": {},
   "outputs": [],
   "source": [
    "# Load the csv files from folder 202412-citibike-tripdata\n",
    "\n",
    "path = '202412-citibike-tripdata'\n",
    "files = os.listdir(path)\n",
    "\n",
    "# Load the csv files into a dataframe\n",
    "df = pd.concat([pd.read_csv(path + '/' + f) for f in files], ignore_index = True)\n",
    "\n",
    "# Display the first 5 rows of the dataframe\n",
    "df.head()"
   ]
  },
  {
   "cell_type": "markdown",
   "metadata": {},
   "source": [
    "#### Validation of key fields"
   ]
  },
  {
   "cell_type": "markdown",
   "metadata": {},
   "source": [
    "Validating the following fields (using pandera):\n",
    "- ride_id (string)\n",
    "- rideable_type (categorical)\n",
    "- started_at (datetime)\n",
    "- ended_at (datetime)\n",
    "- start_station_name (string)\n",
    "- start_station_id (string)\n",
    "- end_station_name (string)\n",
    "- end_station_id (string)\n",
    "- start_lat, start_lng (float)\n",
    "- end_lat, end_lng (float)\n",
    "- member_casual (categorical)"
   ]
  },
  {
   "cell_type": "code",
   "execution_count": null,
   "metadata": {},
   "outputs": [],
   "source": [
    "# Validate the datatype of the columns\n",
    "\n",
    "df.dtypes"
   ]
  },
  {
   "cell_type": "code",
   "execution_count": null,
   "metadata": {},
   "outputs": [],
   "source": [
    "# Convert data types of columns\n",
    "df['started_at'] = pd.to_datetime(df['started_at'])\n",
    "df['ended_at'] = pd.to_datetime(df['ended_at'])\n",
    "\n",
    "# Handlinng Null values:\n",
    "if 'start_station_name' in df.columns:\n",
    "    df['start_station_name'].fillna('Unknown', inplace=True)"
   ]
  },
  {
   "cell_type": "code",
   "execution_count": null,
   "metadata": {},
   "outputs": [],
   "source": [
    "# Validate the schema of the dataframe\n",
    "\n",
    "schema = pa.DataFrameSchema({\n",
    "    \"ride_id\": pa.Column(pa.String),\n",
    "    \"rideable_type\": pa.Column(pa.Category),\n",
    "    \"started_at\": pa.Column(pa.DateTime),\n",
    "    \"ended_at\": pa.Column(pa.DateTime),\n",
    "    \"start_station_name\": pa.Column(pa.String),\n",
    "    \"start_station_id\": pa.Column(pa.String),\n",
    "    \"end_station_name\": pa.Column(pa.String),\n",
    "    \"end_station_id\": pa.Column(pa.String),\n",
    "    \"start_lat\": pa.Column(pa.Float),\n",
    "    \"start_lng\": pa.Column(pa.Float),\n",
    "    \"end_lat\": pa.Column(pa.Float),\n",
    "    \"end_lng\": pa.Column(pa.Float),\n",
    "    \"member_casual\": pa.Column(pa.Category)\n",
    "})\n",
    "validated_df = schema.validate(df)\n",
    "\n",
    "# Display the first 5 rows of the validated dataframe\n",
    "validated_df.head()"
   ]
  }
 ],
 "metadata": {
  "language_info": {
   "name": "python"
  }
 },
 "nbformat": 4,
 "nbformat_minor": 2
}
